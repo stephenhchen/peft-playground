{
 "cells": [
  {
   "cell_type": "markdown",
   "metadata": {},
   "source": [
    "### Setup"
   ]
  },
  {
   "cell_type": "code",
   "execution_count": 1,
   "metadata": {},
   "outputs": [],
   "source": [
    "from pathlib import Path\n",
    "import sys\n",
    "import pandas as pd\n",
    "\n",
    "# Setup for all notebooks inside notebooks directory\n",
    "PARENT_DIR = str(Path().absolute().parent)\n",
    "sys.path.append(PARENT_DIR)"
   ]
  },
  {
   "cell_type": "code",
   "execution_count": 2,
   "metadata": {},
   "outputs": [],
   "source": [
    "math = pd.read_json(\"../LLM-Adapters/ft-training_set/math_10k.json\")\n",
    "commonsense = pd.read_json(\"../LLM-Adapters/ft-training_set/commonsense_170k.json\")"
   ]
  },
  {
   "cell_type": "code",
   "execution_count": 3,
   "metadata": {},
   "outputs": [
    {
     "data": {
      "text/html": [
       "<div>\n",
       "<style scoped>\n",
       "    .dataframe tbody tr th:only-of-type {\n",
       "        vertical-align: middle;\n",
       "    }\n",
       "\n",
       "    .dataframe tbody tr th {\n",
       "        vertical-align: top;\n",
       "    }\n",
       "\n",
       "    .dataframe thead th {\n",
       "        text-align: right;\n",
       "    }\n",
       "</style>\n",
       "<table border=\"1\" class=\"dataframe\">\n",
       "  <thead>\n",
       "    <tr style=\"text-align: right;\">\n",
       "      <th></th>\n",
       "      <th>instruction</th>\n",
       "      <th>input</th>\n",
       "      <th>output</th>\n",
       "      <th>answer</th>\n",
       "    </tr>\n",
       "  </thead>\n",
       "  <tbody>\n",
       "    <tr>\n",
       "      <th>0</th>\n",
       "      <td>Please answer the following question with true...</td>\n",
       "      <td></td>\n",
       "      <td>the correct answer is true</td>\n",
       "      <td>true</td>\n",
       "    </tr>\n",
       "    <tr>\n",
       "      <th>1</th>\n",
       "      <td>Please answer the following question with true...</td>\n",
       "      <td></td>\n",
       "      <td>the correct answer is true</td>\n",
       "      <td>true</td>\n",
       "    </tr>\n",
       "    <tr>\n",
       "      <th>2</th>\n",
       "      <td>Please answer the following question with true...</td>\n",
       "      <td></td>\n",
       "      <td>the correct answer is true</td>\n",
       "      <td>true</td>\n",
       "    </tr>\n",
       "    <tr>\n",
       "      <th>3</th>\n",
       "      <td>Please answer the following question with true...</td>\n",
       "      <td></td>\n",
       "      <td>the correct answer is true</td>\n",
       "      <td>true</td>\n",
       "    </tr>\n",
       "    <tr>\n",
       "      <th>4</th>\n",
       "      <td>Please answer the following question with true...</td>\n",
       "      <td></td>\n",
       "      <td>the correct answer is false</td>\n",
       "      <td>false</td>\n",
       "    </tr>\n",
       "    <tr>\n",
       "      <th>...</th>\n",
       "      <td>...</td>\n",
       "      <td>...</td>\n",
       "      <td>...</td>\n",
       "      <td>...</td>\n",
       "    </tr>\n",
       "    <tr>\n",
       "      <th>170415</th>\n",
       "      <td>Please choose the correct answer to the questi...</td>\n",
       "      <td></td>\n",
       "      <td>the correct answer is answer1</td>\n",
       "      <td>answer1</td>\n",
       "    </tr>\n",
       "    <tr>\n",
       "      <th>170416</th>\n",
       "      <td>Please choose the correct answer to the questi...</td>\n",
       "      <td></td>\n",
       "      <td>the correct answer is answer1</td>\n",
       "      <td>answer1</td>\n",
       "    </tr>\n",
       "    <tr>\n",
       "      <th>170417</th>\n",
       "      <td>Please choose the correct answer to the questi...</td>\n",
       "      <td></td>\n",
       "      <td>the correct answer is answer2</td>\n",
       "      <td>answer2</td>\n",
       "    </tr>\n",
       "    <tr>\n",
       "      <th>170418</th>\n",
       "      <td>Please choose the correct answer to the questi...</td>\n",
       "      <td></td>\n",
       "      <td>the correct answer is answer1</td>\n",
       "      <td>answer1</td>\n",
       "    </tr>\n",
       "    <tr>\n",
       "      <th>170419</th>\n",
       "      <td>Please choose the correct answer to the questi...</td>\n",
       "      <td></td>\n",
       "      <td>the correct answer is answer1</td>\n",
       "      <td>answer1</td>\n",
       "    </tr>\n",
       "  </tbody>\n",
       "</table>\n",
       "<p>170420 rows × 4 columns</p>\n",
       "</div>"
      ],
      "text/plain": [
       "                                              instruction input  \\\n",
       "0       Please answer the following question with true...         \n",
       "1       Please answer the following question with true...         \n",
       "2       Please answer the following question with true...         \n",
       "3       Please answer the following question with true...         \n",
       "4       Please answer the following question with true...         \n",
       "...                                                   ...   ...   \n",
       "170415  Please choose the correct answer to the questi...         \n",
       "170416  Please choose the correct answer to the questi...         \n",
       "170417  Please choose the correct answer to the questi...         \n",
       "170418  Please choose the correct answer to the questi...         \n",
       "170419  Please choose the correct answer to the questi...         \n",
       "\n",
       "                               output   answer  \n",
       "0          the correct answer is true     true  \n",
       "1          the correct answer is true     true  \n",
       "2          the correct answer is true     true  \n",
       "3          the correct answer is true     true  \n",
       "4         the correct answer is false    false  \n",
       "...                               ...      ...  \n",
       "170415  the correct answer is answer1  answer1  \n",
       "170416  the correct answer is answer1  answer1  \n",
       "170417  the correct answer is answer2  answer2  \n",
       "170418  the correct answer is answer1  answer1  \n",
       "170419  the correct answer is answer1  answer1  \n",
       "\n",
       "[170420 rows x 4 columns]"
      ]
     },
     "execution_count": 3,
     "metadata": {},
     "output_type": "execute_result"
    }
   ],
   "source": [
    "commonsense"
   ]
  },
  {
   "cell_type": "code",
   "execution_count": 4,
   "metadata": {},
   "outputs": [
    {
     "data": {
      "text/plain": [
       "'Please answer the following question with true or false, question: do iran and afghanistan speak the same language?\\n\\nAnswer format: true/false'"
      ]
     },
     "execution_count": 4,
     "metadata": {},
     "output_type": "execute_result"
    }
   ],
   "source": [
    "commonsense.loc[0].instruction"
   ]
  },
  {
   "cell_type": "code",
   "execution_count": 23,
   "metadata": {},
   "outputs": [
    {
     "data": {
      "text/plain": [
       "''"
      ]
     },
     "execution_count": 23,
     "metadata": {},
     "output_type": "execute_result"
    }
   ],
   "source": [
    "commonsense.loc[0].input"
   ]
  },
  {
   "cell_type": "code",
   "execution_count": 24,
   "metadata": {},
   "outputs": [
    {
     "data": {
      "text/plain": [
       "'the correct answer is true'"
      ]
     },
     "execution_count": 24,
     "metadata": {},
     "output_type": "execute_result"
    }
   ],
   "source": [
    "commonsense.loc[0].output"
   ]
  },
  {
   "cell_type": "code",
   "execution_count": 28,
   "metadata": {},
   "outputs": [
    {
     "data": {
      "text/plain": [
       "output\n",
       "the correct answer is option1      31649\n",
       "the correct answer is option2      31589\n",
       "the correct answer is answer1      13439\n",
       "the correct answer is answer2      13272\n",
       "the correct answer is answer3      12975\n",
       "the correct answer is ending2      10031\n",
       "the correct answer is ending4      10021\n",
       "the correct answer is ending1       9986\n",
       "the correct answer is ending3       9867\n",
       "the correct answer is solution2     8060\n",
       "the correct answer is solution1     8053\n",
       "the correct answer is true          5874\n",
       "the correct answer is false         3553\n",
       "the correct answer is answer4       2049\n",
       "the correct answer is answer5          2\n",
       "Name: count, dtype: int64"
      ]
     },
     "execution_count": 28,
     "metadata": {},
     "output_type": "execute_result"
    }
   ],
   "source": [
    "commonsense.output.value_counts()"
   ]
  },
  {
   "cell_type": "code",
   "execution_count": 30,
   "metadata": {},
   "outputs": [
    {
     "data": {
      "text/plain": [
       "\"Please choose the correct answer to the question: Taylor took Addison's lives in the video game and laughed at the victory. How would you describe Taylor?\\n\\nAnswer1: upset with Taylor Answer2: very sad Answer3: very competitive\\n\\nAnswer format: answer1/answer2/answer3\""
      ]
     },
     "execution_count": 30,
     "metadata": {},
     "output_type": "execute_result"
    }
   ],
   "source": [
    "commonsense.iloc[51482].instruction"
   ]
  },
  {
   "cell_type": "code",
   "execution_count": 31,
   "metadata": {},
   "outputs": [
    {
     "data": {
      "text/plain": [
       "'answer3'"
      ]
     },
     "execution_count": 31,
     "metadata": {},
     "output_type": "execute_result"
    }
   ],
   "source": [
    "commonsense.iloc[51482].answer"
   ]
  },
  {
   "cell_type": "code",
   "execution_count": 12,
   "metadata": {},
   "outputs": [
    {
     "data": {
      "text/plain": [
       "'Dave initially had 11 tickets. He spent 5 tickets on a beanie, leaving him with:\\n\\n11 - 5 = 6 tickets\\n\\nHe later won 10 more tickets, so his total number of tickets would be:\\n\\n6 + 10 = 16 tickets\\n\\nTherefore, Dave would have 16 tickets after spending 5 tickets on a beanie and winning 10 more tickets. The answer in Arabic numerals is:\\n\\n16'"
      ]
     },
     "execution_count": 12,
     "metadata": {},
     "output_type": "execute_result"
    }
   ],
   "source": [
    "math.loc[0].output"
   ]
  },
  {
   "cell_type": "code",
   "execution_count": 16,
   "metadata": {},
   "outputs": [
    {
     "data": {
      "text/plain": [
       "'16.0'"
      ]
     },
     "execution_count": 16,
     "metadata": {},
     "output_type": "execute_result"
    }
   ],
   "source": [
    "math.loc[0].answer"
   ]
  }
 ],
 "metadata": {
  "kernelspec": {
   "display_name": "peft-play-74AfMjt_-py3.11",
   "language": "python",
   "name": "python3"
  },
  "language_info": {
   "codemirror_mode": {
    "name": "ipython",
    "version": 3
   },
   "file_extension": ".py",
   "mimetype": "text/x-python",
   "name": "python",
   "nbconvert_exporter": "python",
   "pygments_lexer": "ipython3",
   "version": "3.11.9"
  }
 },
 "nbformat": 4,
 "nbformat_minor": 2
}
